{
 "cells": [
  {
   "cell_type": "code",
   "execution_count": 8,
   "id": "81f9bd96",
   "metadata": {},
   "outputs": [
    {
     "data": {
      "text/plain": [
       "['Hello', [1, 2, 3], 4.5, (8, 9, 7)]"
      ]
     },
     "execution_count": 8,
     "metadata": {},
     "output_type": "execute_result"
    }
   ],
   "source": [
    "# Q1\n",
    "l = ['Hello', [1,2,3], 4.5, (8,9,7)]\n",
    "l"
   ]
  },
  {
   "cell_type": "code",
   "execution_count": 12,
   "id": "deb428e9",
   "metadata": {},
   "outputs": [],
   "source": [
    "# Q2\n",
    "var1 = '' #String\n",
    "var2 = '[DS,ML,Python]'#String\n",
    "var3 = ['DS','ML','Python'] #list\n",
    "var4 = 1. #float"
   ]
  },
  {
   "cell_type": "code",
   "execution_count": 13,
   "id": "8d1f66fa",
   "metadata": {},
   "outputs": [
    {
     "data": {
      "text/plain": [
       "15.0"
      ]
     },
     "execution_count": 13,
     "metadata": {},
     "output_type": "execute_result"
    }
   ],
   "source": [
    "# Q3\n",
    "# (i) Division operator\n",
    "a = 45/3\n",
    "a"
   ]
  },
  {
   "cell_type": "code",
   "execution_count": 14,
   "id": "824cdc2d",
   "metadata": {},
   "outputs": [
    {
     "data": {
      "text/plain": [
       "1"
      ]
     },
     "execution_count": 14,
     "metadata": {},
     "output_type": "execute_result"
    }
   ],
   "source": [
    "# Q3\n",
    "# (ii) Modulus operator : it returns the remainder\n",
    "b = 25%3\n",
    "b"
   ]
  },
  {
   "cell_type": "code",
   "execution_count": 15,
   "id": "dcf83aa1",
   "metadata": {},
   "outputs": [
    {
     "data": {
      "text/plain": [
       "12"
      ]
     },
     "execution_count": 15,
     "metadata": {},
     "output_type": "execute_result"
    }
   ],
   "source": [
    "# Q3\n",
    "# (iii) Floor division operator: it divides 2 numbers and rounds the resultant value down to the nearest integer\n",
    "c = 25//2\n",
    "c"
   ]
  },
  {
   "cell_type": "code",
   "execution_count": 16,
   "id": "fc1d8cf5",
   "metadata": {},
   "outputs": [
    {
     "data": {
      "text/plain": [
       "8"
      ]
     },
     "execution_count": 16,
     "metadata": {},
     "output_type": "execute_result"
    }
   ],
   "source": [
    "# Q3\n",
    "# (iv) Power of operator: performs exponential calculation\n",
    "d = 2**3 # 2*2*2\n",
    "d"
   ]
  },
  {
   "cell_type": "code",
   "execution_count": 17,
   "id": "3de2c7e7",
   "metadata": {},
   "outputs": [
    {
     "name": "stdout",
     "output_type": "stream",
     "text": [
      "12 <class 'int'>\n",
      "Hello <class 'str'>\n",
      "25.6 <class 'float'>\n",
      "True <class 'bool'>\n",
      "(4, 8, 9) <class 'tuple'>\n",
      "(3+6j) <class 'complex'>\n",
      "[45, 54, 25] <class 'list'>\n",
      "{1, 2, 3} <class 'set'>\n",
      "False <class 'bool'>\n",
      "25 <class 'int'>\n"
     ]
    }
   ],
   "source": [
    "# Q4 Create a list of length 10 of your choice containing multiple types of data. Using for loop print the\n",
    "# element and its data type.\n",
    "l = [12,'Hello', 25.6, True, (4,8,9), 3+6j, [45,54,25], {1,2,3}, False, 25]\n",
    "for i in l:\n",
    "    print(i, type(i))"
   ]
  },
  {
   "cell_type": "code",
   "execution_count": 26,
   "id": "8b8289cd",
   "metadata": {},
   "outputs": [
    {
     "name": "stdout",
     "output_type": "stream",
     "text": [
      "Enter first number 65\n",
      "Enter second number 5\n",
      "A is divisible by B and by 1 times\n"
     ]
    }
   ],
   "source": [
    "# Q5. Using a while loop, verify if the number A is purely divisible by number B and if so then how many\n",
    "# times it can be divisible.\n",
    "\n",
    "A = int(input('Enter first number '))\n",
    "B = int(input('Enter second number '))\n",
    "count = 0\n",
    "while A%B == 0:\n",
    "    A = A/B\n",
    "    count += 1\n",
    "if count>0:\n",
    "    print('A is divisible by B and by', count, 'times')\n",
    "else:\n",
    "    print('A is not divisible by B')"
   ]
  },
  {
   "cell_type": "code",
   "execution_count": 25,
   "id": "aaea9511",
   "metadata": {},
   "outputs": [
    {
     "name": "stdout",
     "output_type": "stream",
     "text": [
      "25 Not divisible by 3\n",
      "26 Not divisible by 3\n",
      "27 Divisible by 3\n",
      "28 Not divisible by 3\n",
      "29 Not divisible by 3\n",
      "30 Divisible by 3\n",
      "31 Not divisible by 3\n",
      "32 Not divisible by 3\n",
      "33 Divisible by 3\n",
      "34 Not divisible by 3\n",
      "35 Not divisible by 3\n",
      "36 Divisible by 3\n",
      "37 Not divisible by 3\n",
      "38 Not divisible by 3\n",
      "39 Divisible by 3\n",
      "40 Not divisible by 3\n",
      "41 Not divisible by 3\n",
      "42 Divisible by 3\n",
      "43 Not divisible by 3\n",
      "44 Not divisible by 3\n",
      "45 Divisible by 3\n",
      "46 Not divisible by 3\n",
      "47 Not divisible by 3\n",
      "48 Divisible by 3\n",
      "49 Not divisible by 3\n"
     ]
    }
   ],
   "source": [
    "# Q6. Create a list containing 25 int type data. Using for loop and if-else condition print if the element is\n",
    "# divisible by 3 or not.\n",
    "l = list(range(25,50))\n",
    "for i in l:\n",
    "    if i%3 == 0:\n",
    "        print(i, 'Divisible by 3')\n",
    "    else:\n",
    "        print(i, 'Not divisible by 3')"
   ]
  },
  {
   "cell_type": "markdown",
   "id": "47079c03",
   "metadata": {},
   "source": [
    " Q7. What do you understand about mutable and immutable data types? Give examples for both showing\n",
    " this property.\n",
    "\n",
    "In mutable data types we can replace, add or remove its elements\n",
    "eg : list, dictionary, sets\n",
    "    \n",
    "whereas in immutable data types we cannot perform the above operations\n",
    "eg : int, string, tuples etc"
   ]
  },
  {
   "cell_type": "code",
   "execution_count": 27,
   "id": "f29fef12",
   "metadata": {},
   "outputs": [
    {
     "data": {
      "text/plain": [
       "[1, 34, 45, 87, 96]"
      ]
     },
     "execution_count": 27,
     "metadata": {},
     "output_type": "execute_result"
    }
   ],
   "source": [
    "l = [1,34, 45,87]\n",
    "l.append(96)\n",
    "l"
   ]
  },
  {
   "cell_type": "code",
   "execution_count": 29,
   "id": "dd61ba67",
   "metadata": {},
   "outputs": [
    {
     "ename": "TypeError",
     "evalue": "'str' object does not support item assignment",
     "output_type": "error",
     "traceback": [
      "\u001b[1;31m---------------------------------------------------------------------------\u001b[0m",
      "\u001b[1;31mTypeError\u001b[0m                                 Traceback (most recent call last)",
      "\u001b[1;32m~\\AppData\\Local\\Temp\\ipykernel_12772\\1569637543.py\u001b[0m in \u001b[0;36m<module>\u001b[1;34m\u001b[0m\n\u001b[0;32m      1\u001b[0m \u001b[0ms\u001b[0m \u001b[1;33m=\u001b[0m \u001b[1;34m'Delhi'\u001b[0m\u001b[1;33m\u001b[0m\u001b[1;33m\u001b[0m\u001b[0m\n\u001b[1;32m----> 2\u001b[1;33m \u001b[0ms\u001b[0m\u001b[1;33m[\u001b[0m\u001b[1;36m0\u001b[0m\u001b[1;33m]\u001b[0m \u001b[1;33m=\u001b[0m \u001b[1;34m'R'\u001b[0m\u001b[1;33m\u001b[0m\u001b[1;33m\u001b[0m\u001b[0m\n\u001b[0m",
      "\u001b[1;31mTypeError\u001b[0m: 'str' object does not support item assignment"
     ]
    }
   ],
   "source": [
    "s = 'Delhi'\n",
    "s[0] = 'R'"
   ]
  },
  {
   "cell_type": "code",
   "execution_count": null,
   "id": "f00ff641",
   "metadata": {},
   "outputs": [],
   "source": []
  }
 ],
 "metadata": {
  "kernelspec": {
   "display_name": "Python 3 (ipykernel)",
   "language": "python",
   "name": "python3"
  },
  "language_info": {
   "codemirror_mode": {
    "name": "ipython",
    "version": 3
   },
   "file_extension": ".py",
   "mimetype": "text/x-python",
   "name": "python",
   "nbconvert_exporter": "python",
   "pygments_lexer": "ipython3",
   "version": "3.9.13"
  }
 },
 "nbformat": 4,
 "nbformat_minor": 5
}
