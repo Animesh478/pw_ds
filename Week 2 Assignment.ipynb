{
 "cells": [
  {
   "cell_type": "markdown",
   "id": "b05bd356",
   "metadata": {},
   "source": [
    "Q1. How do you comment code in Python? What are the different types of comments?"
   ]
  },
  {
   "cell_type": "code",
   "execution_count": null,
   "id": "d44f8e10",
   "metadata": {},
   "outputs": [],
   "source": [
    "You can comment code in python using hashtag(#).\n",
    "Python also ignores the string literals which are not assigned any variable so we can use these string literals\n",
    "as comments.\n",
    "For multi- line comments we can use triple single inverted commas.\n",
    "    \n",
    "Different types of comments:\n",
    "    (1) single line comments\n",
    "    (2) multi line comments\n",
    "    (3) doc string comments"
   ]
  },
  {
   "cell_type": "markdown",
   "id": "e2d992f6",
   "metadata": {},
   "source": [
    "Q2. What are variables in Python? How do you declare and assign values to variables?"
   ]
  },
  {
   "cell_type": "code",
   "execution_count": null,
   "id": "f2e81aa4",
   "metadata": {},
   "outputs": [],
   "source": [
    "Variables are name attached to particular objects. In python you donot have to declare variables in advance.\n",
    "You just assign it a value and start using it. Assignment is done using assignment operator(=)"
   ]
  },
  {
   "cell_type": "markdown",
   "id": "75330ca1",
   "metadata": {},
   "source": [
    "Q3. How do you convert one data type to another in Python?"
   ]
  },
  {
   "cell_type": "code",
   "execution_count": null,
   "id": "a3b0159d",
   "metadata": {},
   "outputs": [],
   "source": [
    "You can convert one data type to another in Python by using typecasting"
   ]
  },
  {
   "cell_type": "markdown",
   "id": "9497fce5",
   "metadata": {},
   "source": [
    "Q4. How do you write and execute a Python script from the command line?"
   ]
  },
  {
   "cell_type": "code",
   "execution_count": null,
   "id": "34b7beee",
   "metadata": {},
   "outputs": [],
   "source": [
    "1. Open the command prompt \n",
    "2. Verify that your command prompt can run python\n",
    "3. Create a python script in any editor\n",
    "4. Use python your_file_name.py to run your script from the terminal"
   ]
  },
  {
   "cell_type": "markdown",
   "id": "9968981c",
   "metadata": {},
   "source": [
    "Q5. Given a list my_list = [1, 2, 3, 4, 5], write the code to slice the list and obtain the sub-list [2, 3]."
   ]
  },
  {
   "cell_type": "code",
   "execution_count": 1,
   "id": "8fb3036d",
   "metadata": {},
   "outputs": [
    {
     "data": {
      "text/plain": [
       "[2, 3]"
      ]
     },
     "execution_count": 1,
     "metadata": {},
     "output_type": "execute_result"
    }
   ],
   "source": [
    "my_list = [1, 2, 3, 4, 5]\n",
    "my_list[1:3]"
   ]
  },
  {
   "cell_type": "markdown",
   "id": "103afe7a",
   "metadata": {},
   "source": [
    "Q6. What is a complex number in mathematics, and how is it represented in Python?"
   ]
  },
  {
   "cell_type": "code",
   "execution_count": null,
   "id": "6cb3f7cf",
   "metadata": {},
   "outputs": [],
   "source": [
    "Complex numbers are a combination of real and imaginary numbers and is denoted by (a+ib) where a is the real part\n",
    "and ib is the imaginary part.\n",
    "In python complex numbers are represented by (x+yj)"
   ]
  },
  {
   "cell_type": "markdown",
   "id": "773a09f7",
   "metadata": {},
   "source": [
    "Q7. What is the correct way to declare a variable named age and assign the value 25 to it?"
   ]
  },
  {
   "cell_type": "code",
   "execution_count": null,
   "id": "aac44896",
   "metadata": {},
   "outputs": [],
   "source": [
    "age = 25"
   ]
  },
  {
   "cell_type": "markdown",
   "id": "afb3e395",
   "metadata": {},
   "source": [
    "Q8. Declare a variable named price and assign the value 9.99 to it. What data type does this variable \n",
    "belong to?"
   ]
  },
  {
   "cell_type": "code",
   "execution_count": 2,
   "id": "1f4b4c50",
   "metadata": {},
   "outputs": [
    {
     "data": {
      "text/plain": [
       "float"
      ]
     },
     "execution_count": 2,
     "metadata": {},
     "output_type": "execute_result"
    }
   ],
   "source": [
    "price = 9.99\n",
    "type(price)"
   ]
  },
  {
   "cell_type": "markdown",
   "id": "0978ee0e",
   "metadata": {},
   "source": [
    "Q9. Create a variable named name and assign your full name to it as a string. How would you print the \n",
    "value of this variable?"
   ]
  },
  {
   "cell_type": "code",
   "execution_count": 3,
   "id": "0cb44f3f",
   "metadata": {},
   "outputs": [
    {
     "name": "stdout",
     "output_type": "stream",
     "text": [
      "Animesh Mohanty\n"
     ]
    }
   ],
   "source": [
    "name = 'Animesh Mohanty'\n",
    "print(name)"
   ]
  },
  {
   "cell_type": "markdown",
   "id": "2609bf34",
   "metadata": {},
   "source": [
    "Q10. Given the string \"Hello, World!\", extract the substring \"World\"."
   ]
  },
  {
   "cell_type": "code",
   "execution_count": 8,
   "id": "49d9cc40",
   "metadata": {},
   "outputs": [
    {
     "data": {
      "text/plain": [
       "'World'"
      ]
     },
     "execution_count": 8,
     "metadata": {},
     "output_type": "execute_result"
    }
   ],
   "source": [
    "'Hello, World'.split()[1]"
   ]
  },
  {
   "cell_type": "markdown",
   "id": "c58a952a",
   "metadata": {},
   "source": [
    "Q11. Create a variable named \"is_student\" and assign it a boolean value indicating whether you are \n",
    "currently a student or not."
   ]
  },
  {
   "cell_type": "code",
   "execution_count": null,
   "id": "237504b1",
   "metadata": {},
   "outputs": [],
   "source": [
    "is_student = False"
   ]
  },
  {
   "cell_type": "code",
   "execution_count": null,
   "id": "70e5bb82",
   "metadata": {},
   "outputs": [],
   "source": []
  }
 ],
 "metadata": {
  "kernelspec": {
   "display_name": "Python 3 (ipykernel)",
   "language": "python",
   "name": "python3"
  },
  "language_info": {
   "codemirror_mode": {
    "name": "ipython",
    "version": 3
   },
   "file_extension": ".py",
   "mimetype": "text/x-python",
   "name": "python",
   "nbconvert_exporter": "python",
   "pygments_lexer": "ipython3",
   "version": "3.9.13"
  }
 },
 "nbformat": 4,
 "nbformat_minor": 5
}
